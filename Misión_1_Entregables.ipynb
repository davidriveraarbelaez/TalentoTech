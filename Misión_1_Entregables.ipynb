{
  "nbformat": 4,
  "nbformat_minor": 0,
  "metadata": {
    "colab": {
      "provenance": []
    },
    "kernelspec": {
      "name": "python3",
      "display_name": "Python 3"
    },
    "language_info": {
      "name": "python"
    }
  },
  "cells": [
    {
      "cell_type": "markdown",
      "source": [],
      "metadata": {
        "id": "idGhUV6iFpPG"
      }
    },
    {
      "cell_type": "code",
      "execution_count": null,
      "metadata": {
        "id": "UxNybn4gFn6D"
      },
      "outputs": [],
      "source": [
        "Taller: Análisis Exploratorio de Datos (EDA) con Dataset de Películas\n",
        "\n",
        "Objetivo:\n",
        "En este taller, realizaremos un análisis exploratorio de datos (EDA) usando un dataset de películas. Aplicaremos lo que hemos aprendido sobre la manipulación de datos y visualización para obtener insights importantes del conjunto de datos.\n",
        "\n",
        "Instrucciones:\n",
        "\n"
      ]
    },
    {
      "cell_type": "code",
      "source": [
        "# 1. Carga del Dataset:\n",
        "# Carga el dataset proporcionado sobre películas en un DataFrame de pandas."
      ],
      "metadata": {
        "id": "r4ONjd4rFrSs"
      },
      "execution_count": null,
      "outputs": []
    },
    {
      "cell_type": "code",
      "source": [
        "# 2. Revisión General de los Datos:\n",
        "\n",
        "# Imprime las primeras 5 filas del dataset.\n",
        "# Usa .info() y .describe() para entender mejor la estructura y las estadísticas básicas."
      ],
      "metadata": {
        "id": "EX3S5ZGfF1KN"
      },
      "execution_count": null,
      "outputs": []
    },
    {
      "cell_type": "code",
      "source": [
        "# 3. Búsqueda y Eliminación de Duplicados:\n",
        "\n",
        "# Verifica si hay filas duplicadas en el dataset utilizando el método .duplicated().\n",
        "# Si se encuentran duplicados, elimínalos con .drop_duplicates() y verifica cuántos duplicados fueron eliminados."
      ],
      "metadata": {
        "id": "0YHEVhwdGnMQ"
      },
      "execution_count": null,
      "outputs": []
    },
    {
      "cell_type": "code",
      "source": [
        "# 4. Identificación de Valores Nulos:\n",
        "\n",
        "# Identifica qué columnas tienen valores nulos y cuántos valores nulos hay en cada columna."
      ],
      "metadata": {
        "id": "SsiErzQ_F_HN"
      },
      "execution_count": null,
      "outputs": []
    },
    {
      "cell_type": "code",
      "source": [
        "# 5. Visualización de Variables:\n",
        "\n",
        "# Crea un histograma que muestre la distribución de la variable imdb_score.\n",
        "# Realiza un gráfico de barras para visualizar la cantidad de películas por género (genres)."
      ],
      "metadata": {
        "id": "I9y48CvXGJFF"
      },
      "execution_count": null,
      "outputs": []
    },
    {
      "cell_type": "code",
      "source": [
        "# 6. Análisis de Correlaciones:\n",
        "\n",
        "# Calcula y muestra la correlación entre budget, gross y imdb_score.\n",
        "# Usa un mapa de calor para visualizar las correlaciones."
      ],
      "metadata": {
        "id": "2BN6voO5HOZH"
      },
      "execution_count": null,
      "outputs": []
    },
    {
      "cell_type": "code",
      "source": [
        "# 7. Gráficos de Dispersión:\n",
        "\n",
        "# Crea un gráfico de dispersión para analizar la relación entre budget y gross.\n",
        "# Haz un gráfico de dispersión entre imdb_score y budget."
      ],
      "metadata": {
        "id": "cMv7Vfx_HWro"
      },
      "execution_count": null,
      "outputs": []
    },
    {
      "cell_type": "markdown",
      "source": [
        "Entregables Misión 1\n",
        "1. Código completo del EDA en un archivo Jupyter Notebook. Incluir el dataset que quedó como resultado de la limpieza.\n",
        "2. Gráficas generadas (histogramas, gráficos de barras, gráficos de dispersión, mapa de calor).\n",
        "3. Un resumen de las conclusiones obtenidas, basado en las visualizaciones y análisis de correlaciones realizados."
      ],
      "metadata": {
        "id": "mSlEatI_HhdM"
      }
    }
  ]
}